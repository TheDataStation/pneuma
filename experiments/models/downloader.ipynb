{
 "cells": [
  {
   "cell_type": "code",
   "execution_count": null,
   "metadata": {},
   "outputs": [],
   "source": [
    "from huggingface_hub import hf_hub_download\n",
    "from huggingface_hub import login"
   ]
  },
  {
   "cell_type": "code",
   "execution_count": null,
   "metadata": {},
   "outputs": [],
   "source": [
    "login(\"\")"
   ]
  },
  {
   "cell_type": "code",
   "execution_count": null,
   "metadata": {},
   "outputs": [],
   "source": [
    "# Download meta-llama/Meta-Llama-3-8B-Instruct\n",
    "files = [\n",
    "    \"config.json\",\n",
    "    \"generation_config.json\",\n",
    "    \"model-00001-of-00004.safetensors\",\n",
    "    \"model-00002-of-00004.safetensors\",\n",
    "    \"model-00003-of-00004.safetensors\",\n",
    "    \"model-00004-of-00004.safetensors\",\n",
    "    \"model.safetensors.index.json\",\n",
    "    \"special_tokens_map.json\",\n",
    "    \"tokenizer_config.json\",\n",
    "    \"tokenizer.json\",\n",
    "]\n",
    "repo_id = \"meta-llama/Meta-Llama-3-8B-Instruct\"\n",
    "for file in files:\n",
    "    hf_hub_download(repo_id=repo_id, filename=file, local_dir=\"./llama\")"
   ]
  },
  {
   "cell_type": "code",
   "execution_count": null,
   "metadata": {},
   "outputs": [],
   "source": [
    "# Download BAAI/bge-base-en-v1.5\n",
    "files = [\n",
    "    \"1_Pooling/config.json\",\n",
    "    \"config_sentence_transformers.json\",\n",
    "    \"config.json\",\n",
    "    \"model.safetensors\",\n",
    "    \"modules.json\",\n",
    "    \"README.md\",\n",
    "    \"sentence_bert_config.json\",\n",
    "    \"special_tokens_map.json\",\n",
    "    \"tokenizer_config.json\",\n",
    "    \"tokenizer.json\",\n",
    "    \"vocab.txt\",\n",
    "]\n",
    "repo_id = \"BAAI/bge-base-en-v1.5\"\n",
    "for file in files:\n",
    "    hf_hub_download(repo_id=repo_id, filename=file, local_dir=\"./bge-base\")"
   ]
  },
  {
   "cell_type": "code",
   "execution_count": null,
   "metadata": {},
   "outputs": [],
   "source": [
    "# Download BAAI/bge-reranker-v2-m3\n",
    "files = [\n",
    "    \"config.json\",\n",
    "    \"model.safetensors\",\n",
    "    \"sentencepiece.bpe.model\",\n",
    "    \"special_tokens_map.json\",\n",
    "    \"tokenizer_config.json\",\n",
    "    \"tokenizer.json\",\n",
    "]\n",
    "repo_id = \"BAAI/bge-reranker-v2-m3\"\n",
    "for file in files:\n",
    "    hf_hub_download(repo_id=repo_id, filename=file, local_dir=\"./bge-reranker\")"
   ]
  },
  {
   "cell_type": "code",
   "execution_count": null,
   "metadata": {},
   "outputs": [],
   "source": [
    "# Download mistralai/Mistral-7B-Instruct-v0.3\n",
    "files = [\n",
    "    \"config.json\",\n",
    "    \"generation_config.json\",\n",
    "    \"model-00001-of-00003.safetensors\",\n",
    "    \"model-00002-of-00003.safetensors\",\n",
    "    \"model-00003-of-00003.safetensors\",\n",
    "    \"model.safetensors.index.json\",\n",
    "    \"special_tokens_map.json\",\n",
    "    \"tokenizer_config.json\",\n",
    "    \"tokenizer.json\",\n",
    "    \"tokenizer.model\",\n",
    "]\n",
    "repo_id = \"mistralai/Mistral-7B-Instruct-v0.3\"\n",
    "for file in files:\n",
    "    hf_hub_download(repo_id=repo_id, filename=file, local_dir=\"./mistral\")"
   ]
  },
  {
   "cell_type": "code",
   "execution_count": null,
   "metadata": {},
   "outputs": [],
   "source": [
    "# Download Qwen/Qwen2.5-3B-Instruct\n",
    "files = [\n",
    "    \"config.json\",\n",
    "    \"generation_config.json\",\n",
    "    \"merges.txt\",\n",
    "    \"model-00001-of-00002.safetensors\",\n",
    "    \"model-00002-of-00002.safetensors\",\n",
    "    \"model.safetensors.index.json\",\n",
    "    \"tokenizer.json\",\n",
    "    \"tokenizer_config.json\",\n",
    "    \"vocab.json\",\n",
    "]\n",
    "repo_id = \"Qwen/Qwen2.5-3B-Instruct\"\n",
    "for file in files:\n",
    "    hf_hub_download(repo_id=repo_id, filename=file, local_dir=\"./qwen-3b\")"
   ]
  },
  {
   "cell_type": "code",
   "execution_count": null,
   "metadata": {},
   "outputs": [],
   "source": [
    "# Download Qwen/Qwen2.5-7B-Instruct\n",
    "files = [\n",
    "    \"config.json\",\n",
    "    \"generation_config.json\",\n",
    "    \"merges.txt\",\n",
    "    \"model-00001-of-00004.safetensors\",\n",
    "    \"model-00002-of-00004.safetensors\",\n",
    "    \"model-00003-of-00004.safetensors\",\n",
    "    \"model-00004-of-00004.safetensors\",\n",
    "    \"model.safetensors.index.json\",\n",
    "    \"tokenizer.json\",\n",
    "    \"tokenizer_config.json\",\n",
    "    \"vocab.json\",\n",
    "]\n",
    "repo_id = \"Qwen/Qwen2.5-7B-Instruct\"\n",
    "for file in files:\n",
    "    hf_hub_download(repo_id=repo_id, filename=file, local_dir=\"./qwen\")"
   ]
  },
  {
   "cell_type": "code",
   "execution_count": null,
   "metadata": {},
   "outputs": [],
   "source": [
    "# Download Qwen/Qwen2.5-7B\n",
    "files = [\n",
    "    \"config.json\",\n",
    "    \"generation_config.json\",\n",
    "    \"merges.txt\",\n",
    "    \"model-00001-of-00004.safetensors\",\n",
    "    \"model-00002-of-00004.safetensors\",\n",
    "    \"model-00003-of-00004.safetensors\",\n",
    "    \"model-00004-of-00004.safetensors\",\n",
    "    \"model.safetensors.index.json\",\n",
    "    \"tokenizer.json\",\n",
    "    \"tokenizer_config.json\",\n",
    "    \"vocab.json\",\n",
    "]\n",
    "repo_id = \"Qwen/Qwen2.5-7B\"\n",
    "for file in files:\n",
    "    hf_hub_download(repo_id=repo_id, filename=file, local_dir=\"./qwen-hallucinate\")"
   ]
  },
  {
   "cell_type": "code",
   "execution_count": null,
   "metadata": {},
   "outputs": [],
   "source": [
    "# Download HuggingFaceH4/zephyr-7b-beta\n",
    "files = [\n",
    "    \"added_tokens.json\",\n",
    "    \"all_results.json\",\n",
    "    \"config.json\",\n",
    "    \"eval_results.json\",\n",
    "    \"generation_config.json\",\n",
    "    \"model-00001-of-00008.safetensors\",\n",
    "    \"model-00002-of-00008.safetensors\",\n",
    "    \"model-00003-of-00008.safetensors\",\n",
    "    \"model-00004-of-00008.safetensors\",\n",
    "    \"model-00005-of-00008.safetensors\",\n",
    "    \"model-00006-of-00008.safetensors\",\n",
    "    \"model-00007-of-00008.safetensors\",\n",
    "    \"model-00008-of-00008.safetensors\",\n",
    "    \"model.safetensors.index.json\",\n",
    "    \"special_tokens_map.json\",\n",
    "    \"tokenizer.json\",\n",
    "    \"tokenizer.model\",\n",
    "    \"tokenizer_config.json\",\n",
    "    \"train_results.json\",\n",
    "    \"trainer_state.json\",\n",
    "]\n",
    "repo_id = \"HuggingFaceH4/zephyr-7b-beta\"\n",
    "for file in files:\n",
    "    hf_hub_download(repo_id=repo_id, filename=file, local_dir=\"./zephyr\")"
   ]
  }
 ],
 "metadata": {
  "kernelspec": {
   "display_name": "pneuma",
   "language": "python",
   "name": "python3"
  },
  "language_info": {
   "codemirror_mode": {
    "name": "ipython",
    "version": 3
   },
   "file_extension": ".py",
   "mimetype": "text/x-python",
   "name": "python",
   "nbconvert_exporter": "python",
   "pygments_lexer": "ipython3",
   "version": "3.12.9"
  }
 },
 "nbformat": 4,
 "nbformat_minor": 2
}
