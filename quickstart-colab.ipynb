{
 "cells": [
  {
   "cell_type": "markdown",
   "metadata": {},
   "source": [
    "# Pneuma: Quick Start (Colab)\n",
    "\n",
    "In this notebook, we show how to use each of Pneuma's features, from registering a dataset to querying the index."
   ]
  },
  {
   "cell_type": "markdown",
   "metadata": {},
   "source": [
    "## Offline Stage\n",
    "\n",
    "In the offline stage, we set up Pneuma, including initializing the database, registering dataset and metadata, generating summaries, and generating both vector and keyword index.\n",
    "\n",
    "To use pneuma, we import the class Pneuma from the pneuma module. \n",
    "- CUBLAS_WORKSPACE_CONFIG is set to a certain value (in this demo `:4096:8`) to enforce more deterministic behavior in cuBLAS operations.\n",
    "- CUDA_VISIBLE_DEVICES is used to select the GPU. \n",
    "- The out_path is used to determine where the dataset and indexes will be stored. If not set, it will be defaulted to ~/.local/share/Pneuma/out on Linux or /Documents/Pneuma/out on Windows."
   ]
  },
  {
   "cell_type": "markdown",
   "metadata": {},
   "source": [
    "**NOTE**: You may need to restart the runtime after installing the requirements."
   ]
  },
  {
   "cell_type": "code",
   "execution_count": null,
   "metadata": {},
   "outputs": [],
   "source": [
    "# Download sample data\n",
    "!gdown \"1NN_TxpgBlCjC_ZEBgOnBPMY0CxEX-_EL\" -O \"data_src.zip\"\n",
    "!unzip \"data_src.zip\""
   ]
  },
  {
   "cell_type": "code",
   "execution_count": null,
   "metadata": {},
   "outputs": [],
   "source": [
    "# Install Pneuma\n",
    "!pip install -i https://test.pypi.org/pypi/ --extra-index-url https://pypi.org/simple pneuma"
   ]
  },
  {
   "cell_type": "code",
   "execution_count": 1,
   "metadata": {},
   "outputs": [
    {
     "name": "stderr",
     "output_type": "stream",
     "text": [
      "WARNING:2025-02-21 16:43:38,468:jax._src.xla_bridge:987: An NVIDIA GPU may be present on this machine, but a CUDA-enabled jaxlib is not installed. Falling back to cpu.\n"
     ]
    }
   ],
   "source": [
    "import os\n",
    "\n",
    "os.environ[\"CUBLAS_WORKSPACE_CONFIG\"] = \":4096:8\"\n",
    "os.environ[\"CUDA_VISIBLE_DEVICES\"] = \"0\"\n",
    "\n",
    "import json\n",
    "from src.pneuma import Pneuma"
   ]
  },
  {
   "cell_type": "markdown",
   "metadata": {},
   "source": [
    "We initialize the pneuma object with out_path and call the setup() function to initialize the database."
   ]
  },
  {
   "cell_type": "code",
   "execution_count": 2,
   "metadata": {},
   "outputs": [],
   "source": [
    "from dotenv import load_dotenv\n",
    "\n",
    "load_dotenv()\n",
    "\n",
    "OPENAI_API_KEY = os.getenv('OPENAI_API_KEY')"
   ]
  },
  {
   "cell_type": "code",
   "execution_count": 3,
   "metadata": {},
   "outputs": [
    {
     "name": "stderr",
     "output_type": "stream",
     "text": [
      "2025-02-21 16:43:50,321 [Registrar] [INFO] HTTPFS installed and loaded.\n",
      "2025-02-21 16:43:50,323 [Registrar] [INFO] Table status table created.\n",
      "2025-02-21 16:43:50,325 [Registrar] [INFO] ID sequence created.\n",
      "2025-02-21 16:43:50,484 [Registrar] [INFO] Table contexts table created.\n",
      "2025-02-21 16:43:50,538 [Registrar] [INFO] Table summaries table created.\n",
      "2025-02-21 16:43:50,539 [Registrar] [INFO] Indexes table created.\n",
      "2025-02-21 16:43:50,561 [Registrar] [INFO] Index table mappings table created.\n",
      "2025-02-21 16:43:50,571 [Registrar] [INFO] Query history table created.\n"
     ]
    },
    {
     "data": {
      "text/plain": [
       "'{\"status\": \"SUCCESS\", \"message\": \"Database Initialized.\", \"data\": null}'"
      ]
     },
     "execution_count": 3,
     "metadata": {},
     "output_type": "execute_result"
    }
   ],
   "source": [
    "out_path = \"out_demo/storage\"\n",
    "USE_OPEN_AI = True\n",
    "\n",
    "if USE_OPEN_AI:\n",
    "    pneuma = Pneuma(\n",
    "        out_path=out_path,\n",
    "        openai_api_key=OPENAI_API_KEY,\n",
    "        use_local_model=False,\n",
    "    )\n",
    "else:\n",
    "    pneuma = Pneuma(\n",
    "        out_path=out_path,\n",
    "        llm_path=\"Qwen/Qwen2.5-0.5B-Instruct\",  # We use a smaller model to fit in Colab\n",
    "        embed_path=\"BAAI/bge-base-en-v1.5\",\n",
    "        max_llm_batch_size=1,  # Limit exploration for limited Colab memory\n",
    "    )\n",
    "pneuma.setup()"
   ]
  },
  {
   "cell_type": "markdown",
   "metadata": {},
   "source": [
    "* Note: For local LLMs, we limit exploration of dynamic batch size selector because it will fill the GPU memory quickly and not cleaned fast enough. This is not good for systems with limited GPU memory such as Colab with the T4 GPU."
   ]
  },
  {
   "cell_type": "markdown",
   "metadata": {},
   "source": [
    "### Registration"
   ]
  },
  {
   "cell_type": "markdown",
   "metadata": {},
   "source": [
    "For this demo, we use a dataset of three tables taken from Chicago Open Data with the following descriptions:\n",
    "\n",
    "- **5cq6-qygt.csv**: Bus stops in shelters and at Chicago Transport Authority (CTA) rail stations which have digital signs added to them to show upcoming arrivals.\n",
    "- **5n77-2d6a.csv**: Survey results of the 12th ward residents about issues ranging from climate & sustainability to public safety.\n",
    "- **28km-gtjn.csv**: Fire stations location in Chicago."
   ]
  },
  {
   "cell_type": "markdown",
   "metadata": {},
   "source": [
    "To register a dataset, we call the add_tables function while pointing to a directory and specifying the data creator."
   ]
  },
  {
   "cell_type": "code",
   "execution_count": 4,
   "metadata": {},
   "outputs": [
    {
     "name": "stderr",
     "output_type": "stream",
     "text": [
      "2025-02-21 16:43:55,561 [Registrar] [INFO] Reading folder data_src/sample_data/csv...\n",
      "2025-02-21 16:43:55,562 [Registrar] [INFO] Processing data_src/sample_data/csv/5cq6-qygt.csv...\n",
      "2025-02-21 16:43:55,615 [Registrar] [INFO] Processing table data_src/sample_data/csv/5cq6-qygt.csv ERROR: This table already exists in the database with id ('data_src/sample_data/csv/5cq6-qygt.csv',).\n",
      "2025-02-21 16:43:55,615 [Registrar] [INFO] Processing data_src/sample_data/csv/5n77-2d6a.csv...\n",
      "2025-02-21 16:43:55,628 [Registrar] [INFO] Processing table data_src/sample_data/csv/5n77-2d6a.csv ERROR: This table already exists in the database with id ('data_src/sample_data/csv/5n77-2d6a.csv',).\n",
      "2025-02-21 16:43:55,629 [Registrar] [INFO] Processing data_src/sample_data/csv/inner_folder...\n",
      "2025-02-21 16:43:55,630 [Registrar] [INFO] Reading folder data_src/sample_data/csv/inner_folder...\n",
      "2025-02-21 16:43:55,631 [Registrar] [INFO] Processing data_src/sample_data/csv/inner_folder/28km-gtjn.csv...\n",
      "2025-02-21 16:43:55,648 [Registrar] [INFO] Processing table data_src/sample_data/csv/inner_folder/28km-gtjn.csv ERROR: This table already exists in the database with id ('data_src/sample_data/csv/inner_folder/28km-gtjn.csv',).\n",
      "2025-02-21 16:43:55,648 [Registrar] [INFO] 1 files in folder data_src/sample_data/csv/inner_folder has been processed.\n"
     ]
    },
    {
     "name": "stdout",
     "output_type": "stream",
     "text": [
      "{'status': 'SUCCESS', 'message': '3 files in folder data_src/sample_data/csv has been processed.', 'data': {'file_count': 3, 'tables': [None, None, None]}}\n"
     ]
    }
   ],
   "source": [
    "data_path = \"data_src/sample_data/csv\"\n",
    "response = pneuma.add_tables(path=data_path, creator=\"demo_user\")\n",
    "response = json.loads(response)\n",
    "print(response)"
   ]
  },
  {
   "cell_type": "markdown",
   "metadata": {},
   "source": [
    "Then, we can summarize the tables, all of which are not yet summarized at this point. These summaries then represent the tables for the discovery process."
   ]
  },
  {
   "cell_type": "code",
   "execution_count": 5,
   "metadata": {},
   "outputs": [
    {
     "name": "stderr",
     "output_type": "stream",
     "text": [
      "2025-02-21 16:43:58,588 [Summarizer] [INFO] Generating summaries for all unsummarized tables...\n",
      "2025-02-21 16:43:58,590 [Summarizer] [INFO] Found 0 unsummarized tables.\n"
     ]
    },
    {
     "name": "stdout",
     "output_type": "stream",
     "text": [
      "{'status': 'SUCCESS', 'message': 'No unsummarized tables found.\\n', 'data': {'table_ids': []}}\n"
     ]
    }
   ],
   "source": [
    "response = pneuma.summarize()\n",
    "response = json.loads(response)\n",
    "print(response)"
   ]
  },
  {
   "cell_type": "markdown",
   "metadata": {},
   "source": [
    "Optionally, if context (metadata) is available, we can register it as well using the add_metadata function."
   ]
  },
  {
   "cell_type": "code",
   "execution_count": 6,
   "metadata": {},
   "outputs": [
    {
     "name": "stderr",
     "output_type": "stream",
     "text": [
      "2025-02-21 16:44:02,798 [Registrar] [INFO] Context ID: 9\n",
      "2025-02-21 16:44:02,835 [Registrar] [INFO] Summary ID: 10\n"
     ]
    },
    {
     "name": "stdout",
     "output_type": "stream",
     "text": [
      "{'status': 'SUCCESS', 'message': '2 metadata entries has been added.', 'data': {'file_count': 2, 'metadata_ids': [9, 10]}}\n"
     ]
    }
   ],
   "source": [
    "metadata_path = \"data_src/sample_data/metadata.csv\"\n",
    "response = pneuma.add_metadata(metadata_path=metadata_path)\n",
    "response = json.loads(response)\n",
    "print(response)"
   ]
  },
  {
   "cell_type": "markdown",
   "metadata": {},
   "source": [
    "### Index Generation\n",
    "The summaries (and optionally metadata) need to be indexed into a hybrid retriever (combining vector and full-text indices). To do so, we call the generate_index function while specifying a name for the index. By default, this function will index all registered tables."
   ]
  },
  {
   "cell_type": "code",
   "execution_count": 7,
   "metadata": {},
   "outputs": [
    {
     "name": "stderr",
     "output_type": "stream",
     "text": [
      "2025-02-21 16:44:09,599 [IndexGenerator] [INFO] No table ids provided. Generating index for all tables...\n",
      "2025-02-21 16:44:09,601 [IndexGenerator] [INFO] Generating index for 3 tables...\n",
      "2025-02-21 16:44:09,725 [IndexGenerator] [INFO] Vector index named demo_index with id 11 has been created.\n",
      "2025-02-21 16:44:09,726 [IndexGenerator] [INFO] Processing table data_src/sample_data/csv/5cq6-qygt.csv...\n",
      "2025-02-21 16:44:10,653 [IndexGenerator] [INFO] Processing table data_src/sample_data/csv/5n77-2d6a.csv...\n",
      "2025-02-21 16:44:10,658 [IndexGenerator] [INFO] Processing table data_src/sample_data/csv/inner_folder/28km-gtjn.csv...\n",
      "  0%|          | 0/1 [00:00<?, ?it/s]2025-02-21 16:44:11,128 [httpx] [INFO] HTTP Request: POST https://api.openai.com/v1/embeddings \"HTTP/1.1 200 OK\"\n",
      "100%|██████████| 1/1 [00:00<00:00,  1.42it/s]\n",
      "2025-02-21 16:44:11,378 [IndexGenerator] [INFO] 3 Tables have been inserted to index with id 11.\n"
     ]
    },
    {
     "data": {
      "application/vnd.jupyter.widget-view+json": {
       "model_id": "5575a8dace174afaabb3262efb249626",
       "version_major": 2,
       "version_minor": 0
      },
      "text/plain": [
       "Split strings: 0it [00:00, ?it/s]"
      ]
     },
     "metadata": {},
     "output_type": "display_data"
    },
    {
     "name": "stderr",
     "output_type": "stream",
     "text": [
      "2025-02-21 16:44:11,391 [bm25s] [DEBUG] Building index from IDs objects\n",
      "/zp_more/project_data/pneuma/miniconda3/envs/pneuma/lib/python3.12/site-packages/bm25s/__init__.py:221: RuntimeWarning: Mean of empty slice.\n",
      "  avg_doc_len = np.array([len(doc_ids) for doc_ids in corpus_token_ids]).mean()\n",
      "/zp_more/project_data/pneuma/miniconda3/envs/pneuma/lib/python3.12/site-packages/numpy/core/_methods.py:129: RuntimeWarning: invalid value encountered in scalar divide\n",
      "  ret = ret.dtype.type(ret / rcount)\n"
     ]
    },
    {
     "data": {
      "application/vnd.jupyter.widget-view+json": {
       "model_id": "12e00c740bd6472b8c6ce60993cb3b5f",
       "version_major": 2,
       "version_minor": 0
      },
      "text/plain": [
       "BM25S Count Tokens: 0it [00:00, ?it/s]"
      ]
     },
     "metadata": {},
     "output_type": "display_data"
    },
    {
     "data": {
      "application/vnd.jupyter.widget-view+json": {
       "model_id": "e8691deb01ab434d9764c520233f317d",
       "version_major": 2,
       "version_minor": 0
      },
      "text/plain": [
       "BM25S Compute Scores: 0it [00:00, ?it/s]"
      ]
     },
     "metadata": {},
     "output_type": "display_data"
    },
    {
     "data": {
      "application/vnd.jupyter.widget-view+json": {
       "model_id": "18e88e3e81a2414797e9aeeaf6308bbd",
       "version_major": 2,
       "version_minor": 0
      },
      "text/plain": [
       "Finding newlines for mmindex: 0.00B [00:00, ?B/s]"
      ]
     },
     "metadata": {},
     "output_type": "display_data"
    },
    {
     "name": "stderr",
     "output_type": "stream",
     "text": [
      "2025-02-21 16:44:11,450 [IndexGenerator] [INFO] Keyword index named demo_index with id 12 has been created.\n",
      "2025-02-21 16:44:11,451 [IndexGenerator] [INFO] Processing table data_src/sample_data/csv/5cq6-qygt.csv...\n",
      "2025-02-21 16:44:11,455 [IndexGenerator] [INFO] Processing table data_src/sample_data/csv/5n77-2d6a.csv...\n",
      "2025-02-21 16:44:11,459 [IndexGenerator] [INFO] Processing table data_src/sample_data/csv/inner_folder/28km-gtjn.csv...\n",
      "2025-02-21 16:44:11,468 [bm25s] [DEBUG] Building index from IDs objects\n"
     ]
    },
    {
     "data": {
      "application/vnd.jupyter.widget-view+json": {
       "model_id": "e6393bf8304442c3a580a2376d7858c8",
       "version_major": 2,
       "version_minor": 0
      },
      "text/plain": [
       "Finding newlines for mmindex:   0%|          | 0.00/11.1k [00:00<?, ?B/s]"
      ]
     },
     "metadata": {},
     "output_type": "display_data"
    },
    {
     "name": "stderr",
     "output_type": "stream",
     "text": [
      "2025-02-21 16:44:11,495 [IndexGenerator] [INFO] 3 Tables have been inserted to index with id 12.\n"
     ]
    },
    {
     "name": "stdout",
     "output_type": "stream",
     "text": [
      "{'status': 'SUCCESS', 'message': 'Vector and keyword index named demo_index with id 11 and 12 has been created with 3 tables.', 'data': {'table_ids': ['data_src/sample_data/csv/5cq6-qygt.csv', 'data_src/sample_data/csv/5n77-2d6a.csv', 'data_src/sample_data/csv/inner_folder/28km-gtjn.csv'], 'vector_index_id': 11, 'keyword_index_id': 12, 'vector_index_generation_time': 0.12340712547302246, 'keyword_index_generation_time': 0.07125711441040039}}\n"
     ]
    }
   ],
   "source": [
    "response = pneuma.generate_index(index_name=\"demo_index\")\n",
    "response = json.loads(response)\n",
    "print(response)"
   ]
  },
  {
   "cell_type": "markdown",
   "metadata": {},
   "source": [
    "## Online Stage (Querying)\n",
    "To retrieve a ranked list of tables, we use the query_index function. In this case, the answer (`5n77-2d6a.csv`) is correct because climate & sustainability is one of the issues in this survey results dataset."
   ]
  },
  {
   "cell_type": "code",
   "execution_count": 8,
   "metadata": {},
   "outputs": [
    {
     "name": "stderr",
     "output_type": "stream",
     "text": [
      "2025-02-21 16:45:10,583 [httpx] [INFO] HTTP Request: POST https://api.openai.com/v1/embeddings \"HTTP/1.1 200 OK\"\n",
      "2025-02-21 16:45:11,000 [httpx] [INFO] HTTP Request: POST https://api.openai.com/v1/chat/completions \"HTTP/1.1 200 OK\"\n",
      "2025-02-21 16:45:11,409 [httpx] [INFO] HTTP Request: POST https://api.openai.com/v1/chat/completions \"HTTP/1.1 200 OK\"\n",
      "2025-02-21 16:45:11,922 [httpx] [INFO] HTTP Request: POST https://api.openai.com/v1/chat/completions \"HTTP/1.1 200 OK\"\n",
      "2025-02-21 16:45:12,303 [httpx] [INFO] HTTP Request: POST https://api.openai.com/v1/chat/completions \"HTTP/1.1 200 OK\"\n",
      "2025-02-21 16:45:12,923 [httpx] [INFO] HTTP Request: POST https://api.openai.com/v1/chat/completions \"HTTP/1.1 200 OK\"\n"
     ]
    },
    {
     "name": "stdout",
     "output_type": "stream",
     "text": [
      "Query: Which dataset contains climate issues?\n",
      "Retrieved tables:\n",
      "data_src/sample_data/csv/5n77-2d6a.csv\n"
     ]
    }
   ],
   "source": [
    "response = pneuma.query_index(\n",
    "    index_name=\"demo_index\",\n",
    "    query=\"Which dataset contains climate issues?\",\n",
    "    k=1,\n",
    "    n=5,\n",
    "    alpha=0.5,\n",
    ")\n",
    "response = json.loads(response)\n",
    "query = response[\"data\"][\"query\"]\n",
    "retrieved_tables = response[\"data\"][\"response\"]\n",
    "\n",
    "print(f\"Query: {query}\")\n",
    "print(\"Retrieved tables:\")\n",
    "for table in retrieved_tables:\n",
    "    print(table)"
   ]
  }
 ],
 "metadata": {
  "kernelspec": {
   "display_name": "pneuma",
   "language": "python",
   "name": "python3"
  },
  "language_info": {
   "codemirror_mode": {
    "name": "ipython",
    "version": 3
   },
   "file_extension": ".py",
   "mimetype": "text/x-python",
   "name": "python",
   "nbconvert_exporter": "python",
   "pygments_lexer": "ipython3",
   "version": "3.12.9"
  }
 },
 "nbformat": 4,
 "nbformat_minor": 2
}
