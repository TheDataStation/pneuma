{
 "cells": [
  {
   "cell_type": "markdown",
   "metadata": {},
   "source": [
    "# Pneuma: Quick Start\n",
    "\n",
    "In this notebook, we show how to use each of Pneuma's features, from registering a dataset to querying the index."
   ]
  },
  {
   "cell_type": "markdown",
   "metadata": {},
   "source": [
    "## Offline Stage\n",
    "\n",
    "In the offline stage, we set up Pneuma, including initializing the database, registering dataset and metadata, generating summaries, and generating both vector and keyword index.\n",
    "\n",
    "To use pneuma, we import the class Pneuma from the pneuma module. \n",
    "- CUBLAS_WORKSPACE_CONFIG is set to a certain value (in this demo `:4096:8`) to enforce more deterministic behavior in cuBLAS operations.\n",
    "- CUDA_VISIBLE_DEVICES is used to select the GPU. \n",
    "- The out_path is used to determine where the dataset and indexes will be stored. If not set, it will be defaulted to ~/.local/share/Pneuma/out on Linux or /Documents/Pneuma/out on Windows."
   ]
  },
  {
   "cell_type": "markdown",
   "metadata": {},
   "source": [
    "**NOTE**: In Colab, you will need to restart the runtime after installing the requirements."
   ]
  },
  {
   "cell_type": "code",
   "execution_count": null,
   "metadata": {},
   "outputs": [],
   "source": [
    "import json\n",
    "import os\n",
    "import sys\n",
    "\n",
    "sys.path.append(\"src\")\n",
    "\n",
    "os.environ[\"CUBLAS_WORKSPACE_CONFIG\"] = \":4096:8\"\n",
    "os.environ[\"CUDA_VISIBLE_DEVICES\"] = \"0\"\n",
    "\n",
    "from src.pneuma import Pneuma"
   ]
  },
  {
   "cell_type": "markdown",
   "metadata": {},
   "source": [
    "We initialize the pneuma object with out_path and call the setup() function to initialize the database."
   ]
  },
  {
   "cell_type": "code",
   "execution_count": null,
   "metadata": {},
   "outputs": [],
   "source": [
    "out_path = \"out_demo/storage\"\n",
    "pneuma = Pneuma(\n",
    "    out_path=out_path,\n",
    "    llm_path=\"experiments/models/qwen\",\n",
    "    embed_path=\"experiments/models/bge-base\",\n",
    ")\n",
    "pneuma.setup()"
   ]
  },
  {
   "cell_type": "markdown",
   "metadata": {},
   "source": [
    "### Registration"
   ]
  },
  {
   "cell_type": "markdown",
   "metadata": {},
   "source": [
    "To register a dataset, we call the add_tables function while pointing to a directory and specifying the data creator."
   ]
  },
  {
   "cell_type": "code",
   "execution_count": null,
   "metadata": {},
   "outputs": [],
   "source": [
    "data_path = \"data_src/sample_data/csv\"\n",
    "response = pneuma.add_tables(path=data_path, creator=\"demo_user\")\n",
    "json.loads(response)"
   ]
  },
  {
   "cell_type": "markdown",
   "metadata": {},
   "source": [
    "Register context or summaries for dataset with the add_metadata function."
   ]
  },
  {
   "cell_type": "code",
   "execution_count": null,
   "metadata": {},
   "outputs": [],
   "source": [
    "metadata_path = \"data_src/sample_data/metadata.csv\"\n",
    "response = pneuma.add_metadata(metadata_path=metadata_path)\n",
    "json.loads(response)"
   ]
  },
  {
   "cell_type": "markdown",
   "metadata": {},
   "source": [
    "### Summarization\n",
    "By default, calling the summarize function will create summaries for all unsummarized tables."
   ]
  },
  {
   "cell_type": "code",
   "execution_count": null,
   "metadata": {},
   "outputs": [],
   "source": [
    "response = pneuma.summarize()\n",
    "json.loads(response)"
   ]
  },
  {
   "cell_type": "markdown",
   "metadata": {},
   "source": [
    "### Index Generation\n",
    "To generate both vector and keyword index, we call the generate_index function while specifying a name for the index. By default, this function will index all registered tables."
   ]
  },
  {
   "cell_type": "code",
   "execution_count": null,
   "metadata": {},
   "outputs": [],
   "source": [
    "response = pneuma.generate_index(index_name=\"demo_index\")\n",
    "json.loads(response)"
   ]
  },
  {
   "cell_type": "markdown",
   "metadata": {},
   "source": [
    "## Online Stage (Querying)\n",
    "To retrieve a ranked list of tables, we use the query_index function."
   ]
  },
  {
   "cell_type": "code",
   "execution_count": null,
   "metadata": {},
   "outputs": [],
   "source": [
    "response = pneuma.query_index(\n",
    "    index_name=\"demo_index\",\n",
    "    query=\"Which dataset contains climate issues?\",\n",
    "    k=1,\n",
    "    n=5,\n",
    "    alpha=0.5,\n",
    ")\n",
    "json.loads(response)"
   ]
  }
 ],
 "metadata": {
  "kernelspec": {
   "display_name": "pneuma",
   "language": "python",
   "name": "python3"
  },
  "language_info": {
   "codemirror_mode": {
    "name": "ipython",
    "version": 3
   },
   "file_extension": ".py",
   "mimetype": "text/x-python",
   "name": "python",
   "nbconvert_exporter": "python",
   "pygments_lexer": "ipython3",
   "version": "3.12.9"
  }
 },
 "nbformat": 4,
 "nbformat_minor": 2
}
